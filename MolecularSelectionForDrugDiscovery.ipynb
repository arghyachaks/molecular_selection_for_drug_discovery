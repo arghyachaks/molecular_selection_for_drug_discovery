{
 "cells": [
  {
   "cell_type": "markdown",
   "id": "b147d8d8",
   "metadata": {},
   "source": [
    "Once upon a time, in a small village, there was a chemist named Ada. Ada loved experimenting with molecules and creating new substances in her laboratory. One day, Ada received a mysterious letter with a challenge. The challenge was to find a molecule from a list of candidates that best matched a specific target. \n",
    "\n",
    "The list of candidate molecules was written in a special code called Simplified Molecular Input Line Entry System (SMILES). SMILES is a way to represent molecules as a sequence of characters, making it easier to store and share molecular data. The candidates were: \n",
    "\n",
    "- Ethanol (CCO)\n",
    "- Methylamine (CCN)\n",
    "- Methoxy methane (COC)\n",
    "- Methyl formate (COO)\n",
    "- Oxazole (CNO)\n",
    "- Isocyanic acid (CN=C=O)\n",
    "- Propane (CCC)\n",
    "- Acetaldehyde (CC=O)\n",
    "- Hydrogen cyanide (CC#N) \n",
    "\n",
    "Ada's goal was to find a molecule from this list that had a specific number of atoms and bonds. The target was to find a molecule with 3 atoms and 3 bonds. \n",
    "\n",
    "To solve this challenge, Ada decided to use her magic tool, a quantum computer. The quantum computer could find the best solution by exploring multiple possibilities simultaneously. Ada programmed the quantum computer to create a mathematical model that represented the candidate molecules and the challenge's constraints. \n",
    "\n",
    "Ada defined a variable for each candidate molecule, which could take the value of 1 if the molecule was selected and 0 if it was not. She also created a variable to represent the objective value, which would measure how close each molecule was to the target. The objective value was calculated as the sum of the absolute differences between the number of atoms and bonds in the selected molecule and the target values. \n",
    "\n",
    "Next, Ada added a constraint to the model, ensuring that only one molecule could be selected from the list. With the objective function and constraints in place, she used the quantum computer's powerful LeapHybridCQMSampler to search for the best solution. \n",
    "\n",
    "The quantum computer analyzed the problem and quickly found the optimal solution. It selected the molecule with the SMILES code \"CC=O\" and the English name \"Acetaldehyde,\" which had 3 atoms and 3 bonds, exactly matching the target. \n",
    "\n",
    "Ada was thrilled with the results and felt a great sense of accomplishment. She had successfully solved the mysterious challenge using her knowledge, creativity, and the power of the quantum computer. And so, the story of Ada's molecular adventure spread throughout the village, inspiring others to explore the fascinating world of chemistry and quantum computing.\n",
    "\n"
   ]
  },
  {
   "cell_type": "code",
   "execution_count": 1,
   "id": "f77ff38e",
   "metadata": {},
   "outputs": [],
   "source": [
    "import numpy as np  \n",
    "from rdkit import Chem  \n",
    "from dimod import ConstrainedQuadraticModel\n",
    "import dimod\n",
    "from dwave.system import LeapHybridCQMSampler "
   ]
  },
  {
   "cell_type": "code",
   "execution_count": 2,
   "id": "d5e187f7",
   "metadata": {},
   "outputs": [],
   "source": [
    "# List of candidate molecules in SMILES format  \n",
    "candidate_molecules = [  \n",
    "    \"CCO\",  \n",
    "    \"CCN\",  \n",
    "    \"COC\",  \n",
    "    \"COO\",  \n",
    "    \"CNO\",  \n",
    "    \"CN=C=O\",  \n",
    "    \"CCC\",  \n",
    "    \"CC=O\",  \n",
    "    \"CC#N\"  \n",
    "]  "
   ]
  },
  {
   "cell_type": "code",
   "execution_count": 3,
   "id": "30a2f20f",
   "metadata": {},
   "outputs": [],
   "source": [
    "# English names of the molecules  \n",
    "molecule_names = [  \n",
    "    \"Ethanol\",  \n",
    "    \"Methylamine\",  \n",
    "    \"Methoxy methane\",  \n",
    "    \"Methyl formate\",  \n",
    "    \"Oxazole\",  \n",
    "    \"Isocyanic acid\",  \n",
    "    \"Propane\",  \n",
    "    \"Acetaldehyde\",  \n",
    "    \"Hydrogen cyanide\"  \n",
    "]  "
   ]
  },
  {
   "cell_type": "code",
   "execution_count": 4,
   "id": "d5705516",
   "metadata": {},
   "outputs": [],
   "source": [
    "# Constraints  \n",
    "target_num_atoms = 3  \n",
    "target_num_bonds = 3  "
   ]
  },
  {
   "cell_type": "code",
   "execution_count": 5,
   "id": "77f452df",
   "metadata": {},
   "outputs": [],
   "source": [
    "# Create the Constrained Quadratic Model  \n",
    "cqm = ConstrainedQuadraticModel()  "
   ]
  },
  {
   "cell_type": "code",
   "execution_count": 6,
   "id": "cec88786",
   "metadata": {},
   "outputs": [],
   "source": [
    "# Create a binary variable for each candidate molecule  \n",
    "molecule_vars = []  \n",
    "for i, smiles in enumerate(candidate_molecules):  \n",
    "    molecule_vars.append(dimod.Binary(f\"molecule_{i}\"))  "
   ]
  },
  {
   "cell_type": "code",
   "execution_count": 7,
   "id": "8d9c3315",
   "metadata": {},
   "outputs": [
    {
     "data": {
      "text/plain": [
       "'selection_constraint'"
      ]
     },
     "execution_count": 7,
     "metadata": {},
     "output_type": "execute_result"
    }
   ],
   "source": [
    "# Constraint: Only one molecule can be selected  \n",
    "cqm.add_constraint(sum(molecule_vars) == 1, label=\"selection_constraint\")"
   ]
  },
  {
   "cell_type": "code",
   "execution_count": 8,
   "id": "3aca1f16",
   "metadata": {},
   "outputs": [],
   "source": [
    "# Create a new variable to represent the objective value  \n",
    "objective_var = dimod.Integer(\"objective\")  \n",
    "  \n",
    "# Define the relationship between the molecule variables and the objective value  \n",
    "for i, smiles in enumerate(candidate_molecules):  \n",
    "    molecule = Chem.MolFromSmiles(smiles)  \n",
    "    num_atoms = molecule.GetNumAtoms()  \n",
    "    num_bonds = molecule.GetNumBonds()  \n",
    "    objective_term = float(abs(target_num_atoms - num_atoms) + abs(target_num_bonds - num_bonds))  \n",
    "      \n",
    "    # Add a constraint that enforces the relationship between the molecule variable and the objective value  \n",
    "    cqm.add_constraint(objective_term * molecule_vars[i] - objective_var <= 0)  \n",
    "    cqm.add_constraint(-objective_term * molecule_vars[i] + objective_var <= 0)\n",
    "\n",
    "# Set the objective function: minimize the objective value  \n",
    "cqm.set_objective(objective_var) "
   ]
  },
  {
   "cell_type": "code",
   "execution_count": 9,
   "id": "fc685e92",
   "metadata": {},
   "outputs": [],
   "source": [
    "# Solve the CQM\n",
    "DWAVE_API_TOKEN = \"DEV-******\"#Copy your D-wave key her\n",
    "sampler = LeapHybridCQMSampler(token = DWAVE_API_TOKEN)  \n",
    "sampleset = sampler.sample_cqm(cqm,label=\"Molecular Selection For Drug Discovery\")"
   ]
  },
  {
   "cell_type": "code",
   "execution_count": 10,
   "id": "75d46e4a",
   "metadata": {},
   "outputs": [
    {
     "name": "stdout",
     "output_type": "stream",
     "text": [
      "Selected molecule: CC=O, English name: Acetaldehyde\n"
     ]
    }
   ],
   "source": [
    "# Get the best solution  \n",
    "solution = sampleset.first.sample  \n",
    "  \n",
    "# Print the selected molecule  \n",
    "for var, value in solution.items():  \n",
    "    if value == 1:  \n",
    "        idx = int(var.split(\"_\")[-1])  \n",
    "        print(f\"Selected molecule: {candidate_molecules[idx]}, English name: {molecule_names[idx]}\")  \n"
   ]
  },
  {
   "cell_type": "code",
   "execution_count": null,
   "id": "f1814602",
   "metadata": {},
   "outputs": [],
   "source": []
  }
 ],
 "metadata": {
  "kernelspec": {
   "display_name": "Python 3 (ipykernel)",
   "language": "python",
   "name": "python3"
  },
  "language_info": {
   "codemirror_mode": {
    "name": "ipython",
    "version": 3
   },
   "file_extension": ".py",
   "mimetype": "text/x-python",
   "name": "python",
   "nbconvert_exporter": "python",
   "pygments_lexer": "ipython3",
   "version": "3.10.9"
  }
 },
 "nbformat": 4,
 "nbformat_minor": 5
}
